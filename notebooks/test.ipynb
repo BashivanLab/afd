{
 "cells": [
  {
   "cell_type": "code",
   "execution_count": null,
   "metadata": {},
   "outputs": [],
   "source": [
    "import os \n",
    "import sys \n",
    "import numpy as np\n",
    "import pandas as pd \n",
    "\n",
    "npa = np.array\n",
    "\n",
    "import torch\n",
    "import foolbox as fb\n",
    "\n",
    "import matplotlib as mpl\n",
    "import matplotlib.pyplot as plt \n",
    "%matplotlib inline\n",
    "import seaborn as sns\n",
    "sns.set_style(\"white\")\n",
    "sns.set_style(\"ticks\", {\"xtick.major.size\": 14, \"ytick.major.size\": 14})\n",
    "sns.set_context(\"paper\")\n",
    "mpl.rcParams['axes.linewidth']=2.5\n",
    "mpl.rcParams['ytick.major.width']=2.5\n",
    "mpl.rcParams['xtick.major.width']=2.5\n",
    "\n",
    "%load_ext autoreload\n",
    "%autoreload 2\n",
    "sys.path.insert(0, '../models')\n",
    "sys.path.insert(0, '../')\n",
    "import resnet_cifar\n",
    "import resnet_mnist\n",
    "import mnist_models\n",
    "import cifar_models\n",
    "from utils import get_mnist_test_loader\n",
    "from utils import get_cifar10_test_loader\n",
    "from utils import get_cifar100_test_loader\n"
   ]
  },
  {
   "cell_type": "code",
   "execution_count": null,
   "metadata": {},
   "outputs": [],
   "source": [
    "seed = 0\n",
    "ROOT_PATH = '../'\n",
    "\n",
    "torch.manual_seed(seed)\n",
    "use_cuda = torch.cuda.is_available()\n",
    "device = torch.device(\"cuda\" if use_cuda else \"cpu\")\n",
    "\n",
    "# MNIST\n",
    "MNIST_DATA_PATH = os.path.join(ROOT_PATH, \"data\", 'mnist')\n",
    "mnist = get_mnist_test_loader(batch_size=1000, data_path=MNIST_DATA_PATH)\n",
    "\n",
    "mnist_images, mnist_labels = [], []\n",
    "for images, labels in mnist:\n",
    "    mnist_images.append(images)\n",
    "    mnist_labels.append(labels)\n",
    "mnist_images = torch.cat(mnist_images, dim=0)\n",
    "mnist_labels = torch.cat(mnist_labels, dim=0)\n",
    "    \n",
    "# Cifar 10 \n",
    "C10_DATA_PATH = os.path.join(ROOT_PATH, \"data\", 'cifar10')\n",
    "cifar10 = get_cifar10_test_loader(batch_size=100, data_path=C10_DATA_PATH, norm=False)\n",
    "\n",
    "c10_images, c10_labels = [], []\n",
    "for im, l in cifar10:\n",
    "    c10_images.append(im)\n",
    "    c10_labels.append(l)    \n",
    "c10_images = torch.cat(c10_images, dim=0)\n",
    "c10_labels = torch.cat(c10_labels, dim=0)\n",
    "\n",
    "# Cifar 100 \n",
    "C100_DATA_PATH = os.path.join(ROOT_PATH, \"data\", 'cifar100')\n",
    "cifar100 = get_cifar100_test_loader(batch_size=100, data_path=C100_DATA_PATH, norm=False)\n",
    "\n",
    "c100_images, c100_labels = [], []\n",
    "for im, l in cifar100:\n",
    "    c100_images.append(im)\n",
    "    c100_labels.append(l)    \n",
    "c100_images = torch.cat(c100_images, dim=0)\n",
    "c100_labels = torch.cat(c100_labels, dim=0)"
   ]
  },
  {
   "cell_type": "markdown",
   "metadata": {},
   "source": [
    "# MNIST"
   ]
  },
  {
   "cell_type": "code",
   "execution_count": null,
   "metadata": {},
   "outputs": [],
   "source": [
    "save_path = '../chkpts/mnist/weights.pt'\n",
    "state_dict = torch.load(save_path)\n",
    "\n",
    "afd_E = resnet_mnist.ResNet18FeatsNorm()\n",
    "afd_Dc = mnist_models.LeNetDecoder(10)\n",
    "\n",
    "afd_E.load_state_dict(state_dict['E_state_dict'])\n",
    "afd_Dc.load_state_dict(state_dict['Dc_state_dict'])\n",
    "afd_EDc = torch.nn.Sequential(afd_E, afd_Dc)\n",
    "\n",
    "afd_EDc.to(device)\n",
    "afd_EDc.eval();"
   ]
  },
  {
   "cell_type": "code",
   "execution_count": null,
   "metadata": {},
   "outputs": [],
   "source": [
    "attack_type = 'linfpgd'\n",
    "\n",
    "\n",
    "attack_menu = {'linfpgd':{'attack': fb.attacks.LinfPGD(steps=40), 'eps': [0.0, 0.1, 0.3, 0.35, 0.4, 0.45, 0.5]},\n",
    "               'l1pgd':{'attack': fb.attacks.L1PGD(), 'eps':[0.0, 10.0, 50.0, 100., 200, 400]},\n",
    "               'l2pgd':{'attack': fb.attacks.L2PGD(), 'eps':[0.0, 2.0, 5.0, 10.0, 20.]},\n",
    "               'fgsm':{'attack': fb.attacks.FGSM(random_start=True), 'eps':[0.0, 0.1, 0.3, 0.35, 0.4, 0.45, 0.5]},\n",
    "               'deepfool':{'attack': fb.attacks.LinfDeepFoolAttack(steps=50), 'eps':[0.0, 0.01, 0.1, 0.3, 0.5, 1.0]},\n",
    "               'cw':{'attack': fb.attacks.L2CarliniWagnerAttack(steps=50, stepsize=0.05), 'eps':[0.0, 1., 2., 5.]},\n",
    "               'ddn':{'attack': fb.attacks.DDNAttack(steps=100), 'eps':[0.0, 1., 2., 5.0, 10.0]},\n",
    "              }\n",
    "\n",
    "assert attack_type in ('linfpgd', 'l1pgd', 'l2pgd', 'fgsm', 'deepfool', 'cw', 'ddn')\n",
    "attack, epsilons = attack_menu[attack_type]['attack'], attack_menu[attack_type]['eps']\n"
   ]
  },
  {
   "cell_type": "code",
   "execution_count": null,
   "metadata": {},
   "outputs": [],
   "source": [
    "fmodel = fb.PyTorchModel(afd_EDc, bounds=(0,1), device=device)\n",
    "\n",
    "advs, success = [], []\n",
    "for images, labels in mnist:\n",
    "    try:\n",
    "        _, current_advs, current_success = attack(fmodel, images.to(device), labels.to(device), epsilons=epsilons)\n",
    "    except: \n",
    "        continue\n",
    "    advs.append(current_advs)\n",
    "    success.append(current_success)\n",
    "afd_adv_images = torch.cat([torch.stack(ad) for ad in advs], dim=1).cpu().numpy()\n",
    "success = torch.cat(success, dim=-1)\n",
    "afd_attack_success = success.cpu().numpy()"
   ]
  },
  {
   "cell_type": "code",
   "execution_count": null,
   "metadata": {},
   "outputs": [],
   "source": [
    "MARKER_SIZE = 15\n",
    "\n",
    "sns.set_style(\"ticks\", {\"xtick.major.size\": 14, \"ytick.major.size\": 14})\n",
    "sns.set_context(\"poster\")\n",
    "mpl.rcParams['axes.linewidth']=2.5\n",
    "mpl.rcParams['ytick.major.width']=2.5\n",
    "mpl.rcParams['xtick.major.width']=2.5\n",
    "\n",
    "plt.figure(figsize=(7, 5))\n",
    "plt.plot(epsilons, 100 * (1 - afd_attack_success.mean(-1).round(2)), marker='.', color='g', markersize=MARKER_SIZE)\n",
    "plt.xlabel('eps')\n",
    "plt.ylabel('Accuracy')\n",
    "plt.title(f'Robustness - {attack_type}')\n",
    "\n",
    "sns.despine()\n",
    "plt.tight_layout()\n",
    "plt.show()"
   ]
  },
  {
   "cell_type": "markdown",
   "metadata": {},
   "source": [
    "## AutoAttack"
   ]
  },
  {
   "cell_type": "code",
   "execution_count": null,
   "metadata": {},
   "outputs": [],
   "source": [
    "from autoattack import AutoAttack\n",
    "\n",
    "# apgd-ce, apgd-t, fab-t, square\n",
    "epsilon = 0.3\n",
    "adversary = AutoAttack(afd_EDc, norm='Linf', eps=epsilon, version='standard')\n",
    "x_adv = adversary.run_standard_evaluation(mnist_images, mnist_labels, bs=1000)"
   ]
  },
  {
   "cell_type": "markdown",
   "metadata": {},
   "source": [
    "# Cifar10"
   ]
  },
  {
   "cell_type": "code",
   "execution_count": null,
   "metadata": {},
   "outputs": [],
   "source": [
    "attack_type = 'deepfool'\n",
    "\n",
    "attack_menu = {'linfpgd':{'attack': fb.attacks.LinfPGD(steps=20, abs_stepsize=2./255), 'eps': [0.0, 2./255, 4./255, 8./255, 16./255, 32./255]},\n",
    "               'l1pgd':{'attack': fb.attacks.L1PGD(), 'eps': [0.0, 10.0, 50.0, 100., 200, 400]},\n",
    "               'l2pgd':{'attack': fb.attacks.L2PGD(), 'eps': [0.0, 1.0, 2.0, 5.0, 10.0, 20.0]},\n",
    "               'fgsm':{'attack': fb.attacks.FGSM(), 'eps': [0.0, 2./255, 4./255, 8./255, 16./255, 32./255, 64./255]},\n",
    "               'deepfool':{'attack': fb.attacks.LinfDeepFoolAttack(), 'eps': [0.0, 2./255, 4./255, 8./255, 16./255, 32./255, 64./255]},\n",
    "               'cw':{'attack': fb.attacks.L2CarliniWagnerAttack(steps=20), 'eps': [1.]}, #[0., 1., 2., 5.]},\n",
    "               'ddn':{'attack': fb.attacks.DDNAttack(steps=100), 'eps':[0.0, 2.0, 5.0, 10.0, 15.]},\n",
    "              }\n",
    "\n",
    "assert attack_type in ('linfpgd', 'l1pgd', 'l2pgd', 'fgsm', 'deepfool', 'cw', 'ddn')\n",
    "attack, epsilons = attack_menu[attack_type]['attack'], attack_menu[attack_type]['eps']\n",
    "\n"
   ]
  },
  {
   "cell_type": "code",
   "execution_count": null,
   "metadata": {},
   "outputs": [],
   "source": [
    "save_path = '../chkpts/cifar10/weights.pt'\n",
    "state_dict = torch.load(save_path)\n",
    "\n",
    "afd_E = resnet_cifar.ResNet18Feats()\n",
    "afd_Dc = resnet_cifar.ResNetDecoder()\n",
    "afd_E.load_state_dict(state_dict['E_state_dict'])\n",
    "afd_Dc.load_state_dict(state_dict['Dc_state_dict'])\n",
    "\n",
    "afd_EDc = torch.nn.Sequential(afd_E, afd_Dc)\n",
    "\n",
    "afd_EDc.to(device)\n",
    "afd_EDc.eval();"
   ]
  },
  {
   "cell_type": "code",
   "execution_count": null,
   "metadata": {},
   "outputs": [],
   "source": [
    "fmodel = fb.PyTorchModel(afd_EDc, bounds=(0,1), device=device)\n",
    "\n",
    "advs, success = [], []\n",
    "for images, labels in cifar10:\n",
    "    _, current_advs, current_success = attack(fmodel, images.to(device), labels.to(device), epsilons=epsilons)\n",
    "    advs.append(current_advs)\n",
    "    success.append(current_success)\n",
    "afd_adv_images = torch.cat([torch.stack(ad) for ad in advs], dim=1).cpu().numpy()\n",
    "success = torch.cat(success, dim=-1)\n",
    "afd_attack_success = success.cpu().numpy()\n",
    "\n"
   ]
  },
  {
   "cell_type": "code",
   "execution_count": null,
   "metadata": {},
   "outputs": [],
   "source": [
    "sns.set_style(\"ticks\", {\"xtick.major.size\": 14, \"ytick.major.size\": 14})\n",
    "sns.set_context(\"poster\")\n",
    "mpl.rcParams['axes.linewidth']=2.5\n",
    "mpl.rcParams['ytick.major.width']=2.5\n",
    "mpl.rcParams['xtick.major.width']=2.5\n",
    "\n",
    "MARKER_SIZE=15\n",
    "\n",
    "plt.figure(figsize=(9, 5))\n",
    "plt.plot(epsilons, 100 * (1 - afd_attack_success.mean(-1).round(2)), marker='.', markersize=MARKER_SIZE, color='g')\n",
    "\n",
    "plt.xlabel('eps')\n",
    "plt.ylabel('Accuracy')\n",
    "plt.title(f'Robustness - {attack_type}')\n",
    "\n",
    "sns.despine()\n",
    "plt.tight_layout()\n",
    "plt.show()"
   ]
  },
  {
   "cell_type": "markdown",
   "metadata": {},
   "source": [
    "# Cifar100"
   ]
  },
  {
   "cell_type": "code",
   "execution_count": null,
   "metadata": {},
   "outputs": [],
   "source": [
    "attack_type = 'deepfool'\n",
    "\n",
    "attack_menu = {'linfpgd':{'attack': fb.attacks.LinfPGD(steps=20, abs_stepsize=2./255), 'eps': [0.0, 2./255, 4./255, 8./255, 16./255, 32./255]},\n",
    "               'l1pgd':{'attack': fb.attacks.L1PGD(), 'eps': [0.0, 10.0, 50.0, 100., 200, 400]},\n",
    "               'l2pgd':{'attack': fb.attacks.L2PGD(), 'eps': [0.0, 1.0, 2.0, 5.0, 10.0, 20.0]},\n",
    "               'fgsm':{'attack': fb.attacks.FGSM(), 'eps': [0.0, 2./255, 4./255, 8./255, 16./255, 32./255, 64./255]},\n",
    "               'deepfool':{'attack': fb.attacks.LinfDeepFoolAttack(), 'eps': [0.0, 2./255, 4./255, 8./255, 16./255, 32./255, 64./255]},\n",
    "               'cw':{'attack': fb.attacks.L2CarliniWagnerAttack(steps=20), 'eps': [1.]}, #[0., 1., 2., 5.]},\n",
    "               'ddn':{'attack': fb.attacks.DDNAttack(steps=100), 'eps':[0.0, 2.0, 5.0, 10.0, 15.]}\n",
    "              }\n",
    "\n",
    "assert attack_type in ('linfpgd', 'l1pgd', 'l2pgd', 'fgsm', 'deepfool', 'cw', 'ddn')\n",
    "attack, epsilons = attack_menu[attack_type]['attack'], attack_menu[attack_type]['eps']\n",
    "\n"
   ]
  },
  {
   "cell_type": "code",
   "execution_count": null,
   "metadata": {},
   "outputs": [],
   "source": [
    "save_path = '../chkpts/cifar100/weights.pt'\n",
    "state_dict = torch.load(save_path)\n",
    "\n",
    "afd_E = resnet_cifar.ResNet18Feats()\n",
    "afd_Dc = resnet_cifar.ResNetDecoder(num_classes=100)\n",
    "afd_E.load_state_dict(state_dict['E_state_dict'])\n",
    "afd_Dc.load_state_dict(state_dict['Dc_state_dict'])\n",
    "\n",
    "afd_EDc = torch.nn.Sequential(afd_E, afd_Dc)\n",
    "\n",
    "afd_EDc.to(device)\n",
    "afd_EDc.eval();"
   ]
  },
  {
   "cell_type": "code",
   "execution_count": null,
   "metadata": {},
   "outputs": [],
   "source": [
    "fmodel = fb.PyTorchModel(afd_EDc, bounds=(0,1), device=device)\n",
    "\n",
    "advs, success = [], []\n",
    "for images, labels in cifar100:\n",
    "    _, current_advs, current_success = attack(fmodel, images.to(device), labels.to(device), epsilons=epsilons)\n",
    "    advs.append(current_advs)\n",
    "    success.append(current_success)\n",
    "afd_adv_images = torch.cat([torch.stack(ad) for ad in advs], dim=1).cpu().numpy()\n",
    "success = torch.cat(success, dim=-1)\n",
    "afd_attack_success = success.cpu().numpy()\n",
    "\n"
   ]
  },
  {
   "cell_type": "code",
   "execution_count": null,
   "metadata": {},
   "outputs": [],
   "source": [
    "sns.set_style(\"ticks\", {\"xtick.major.size\": 14, \"ytick.major.size\": 14})\n",
    "sns.set_context(\"poster\")\n",
    "mpl.rcParams['axes.linewidth']=2.5\n",
    "mpl.rcParams['ytick.major.width']=2.5\n",
    "mpl.rcParams['xtick.major.width']=2.5\n",
    "\n",
    "MARKER_SIZE=15\n",
    "\n",
    "plt.figure(figsize=(9, 5))\n",
    "plt.plot(epsilons, 100 * (1 - afd_attack_success.mean(-1).round(2)), marker='.', markersize=MARKER_SIZE, color='g')\n",
    "\n",
    "plt.xlabel('eps')\n",
    "plt.ylabel('Accuracy')\n",
    "plt.title(f'Robustness - {attack_type}')\n",
    "\n",
    "sns.despine()\n",
    "plt.tight_layout()\n",
    "plt.show()"
   ]
  }
 ],
 "metadata": {
  "kernelspec": {
   "display_name": "Python 3",
   "language": "python",
   "name": "python3"
  },
  "language_info": {
   "codemirror_mode": {
    "name": "ipython",
    "version": 3
   },
   "file_extension": ".py",
   "mimetype": "text/x-python",
   "name": "python",
   "nbconvert_exporter": "python",
   "pygments_lexer": "ipython3",
   "version": "3.7.7"
  }
 },
 "nbformat": 4,
 "nbformat_minor": 4
}
